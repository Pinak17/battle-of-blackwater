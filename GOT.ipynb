{
 "cells": [
  {
   "cell_type": "code",
   "execution_count": 1,
   "metadata": {},
   "outputs": [],
   "source": [
    "from pyspark.sql import SparkSession\n",
    "spark = SparkSession.builder.appName('blackwater').getOrCreate()"
   ]
  },
  {
   "cell_type": "code",
   "execution_count": 2,
   "metadata": {},
   "outputs": [],
   "source": [
    "from pyspark.ml.regression import RandomForestRegressor"
   ]
  },
  {
   "cell_type": "code",
   "execution_count": 3,
   "metadata": {},
   "outputs": [],
   "source": [
    "input_data = spark.read.csv('./data/train.csv', header=True, inferSchema=True)"
   ]
  },
  {
   "cell_type": "code",
   "execution_count": 102,
   "metadata": {},
   "outputs": [],
   "source": [
    "input_test_data = spark.read.csv('./data/test.csv', header=True, inferSchema=True)"
   ]
  },
  {
   "cell_type": "code",
   "execution_count": 8,
   "metadata": {},
   "outputs": [
    {
     "data": {
      "text/plain": [
       "4357336"
      ]
     },
     "execution_count": 8,
     "metadata": {},
     "output_type": "execute_result"
    }
   ],
   "source": [
    "input_data.count()"
   ]
  },
  {
   "cell_type": "code",
   "execution_count": 4,
   "metadata": {},
   "outputs": [],
   "source": [
    "from pyspark.ml.linalg import Vector\n",
    "from pyspark.ml.feature import VectorAssembler\n",
    "from pyspark.ml.feature import StandardScaler"
   ]
  },
  {
   "cell_type": "code",
   "execution_count": 5,
   "metadata": {},
   "outputs": [
    {
     "name": "stdout",
     "output_type": "stream",
     "text": [
      "root\n",
      " |-- soldierId: double (nullable = true)\n",
      " |-- shipId: double (nullable = true)\n",
      " |-- attackId: double (nullable = true)\n",
      " |-- assists: double (nullable = true)\n",
      " |-- greekFireItems: double (nullable = true)\n",
      " |-- healthLost: double (nullable = true)\n",
      " |-- knockedOutSoldiers: double (nullable = true)\n",
      " |-- throatSlits: double (nullable = true)\n",
      " |-- healingPotionsUsed: double (nullable = true)\n",
      " |-- killRank: double (nullable = true)\n",
      " |-- killPoints: double (nullable = true)\n",
      " |-- enemiesKilled: double (nullable = true)\n",
      " |-- killingStreaks: double (nullable = true)\n",
      " |-- farthermostKill: double (nullable = true)\n",
      " |-- numShips: double (nullable = true)\n",
      " |-- numSaves: double (nullable = true)\n",
      " |-- horseRideDistance: double (nullable = true)\n",
      " |-- horseRideKills: double (nullable = true)\n",
      " |-- swimmingDistance: double (nullable = true)\n",
      " |-- friendlyKills: double (nullable = true)\n",
      " |-- castleTowerDestroys: double (nullable = true)\n",
      " |-- onFootDistance: double (nullable = true)\n",
      " |-- weaponsUsed: double (nullable = true)\n",
      " |-- respectEarned: double (nullable = true)\n",
      " |-- bestSoldierPerc: double (nullable = true)\n",
      "\n"
     ]
    }
   ],
   "source": [
    "input_data.printSchema()"
   ]
  },
  {
   "cell_type": "code",
   "execution_count": 6,
   "metadata": {},
   "outputs": [],
   "source": [
    "assembler = VectorAssembler(inputCols=['shipId', 'attackId', 'assists', 'greekFireItems', 'healthLost', 'knockedOutSoldiers', 'throatSlits', 'healingPotionsUsed', 'killRank', 'killPoints', 'enemiesKilled', 'killingStreaks', 'farthermostKill', 'numShips', 'numSaves', 'horseRideDistance', 'horseRideKills', 'swimmingDistance', 'friendlyKills', 'castleTowerDestroys', 'onFootDistance', 'weaponsUsed', 'respectEarned'], outputCol='features')"
   ]
  },
  {
   "cell_type": "code",
   "execution_count": 7,
   "metadata": {},
   "outputs": [],
   "source": [
    "output_data = assembler.transform(input_data)"
   ]
  },
  {
   "cell_type": "code",
   "execution_count": 103,
   "metadata": {},
   "outputs": [],
   "source": [
    "output_test_data = assembler.transform(input_test_data)"
   ]
  },
  {
   "cell_type": "code",
   "execution_count": 8,
   "metadata": {},
   "outputs": [
    {
     "name": "stdout",
     "output_type": "stream",
     "text": [
      "root\n",
      " |-- soldierId: double (nullable = true)\n",
      " |-- shipId: double (nullable = true)\n",
      " |-- attackId: double (nullable = true)\n",
      " |-- assists: double (nullable = true)\n",
      " |-- greekFireItems: double (nullable = true)\n",
      " |-- healthLost: double (nullable = true)\n",
      " |-- knockedOutSoldiers: double (nullable = true)\n",
      " |-- throatSlits: double (nullable = true)\n",
      " |-- healingPotionsUsed: double (nullable = true)\n",
      " |-- killRank: double (nullable = true)\n",
      " |-- killPoints: double (nullable = true)\n",
      " |-- enemiesKilled: double (nullable = true)\n",
      " |-- killingStreaks: double (nullable = true)\n",
      " |-- farthermostKill: double (nullable = true)\n",
      " |-- numShips: double (nullable = true)\n",
      " |-- numSaves: double (nullable = true)\n",
      " |-- horseRideDistance: double (nullable = true)\n",
      " |-- horseRideKills: double (nullable = true)\n",
      " |-- swimmingDistance: double (nullable = true)\n",
      " |-- friendlyKills: double (nullable = true)\n",
      " |-- castleTowerDestroys: double (nullable = true)\n",
      " |-- onFootDistance: double (nullable = true)\n",
      " |-- weaponsUsed: double (nullable = true)\n",
      " |-- respectEarned: double (nullable = true)\n",
      " |-- bestSoldierPerc: double (nullable = true)\n",
      " |-- features: vector (nullable = true)\n",
      "\n"
     ]
    }
   ],
   "source": [
    "output_data.printSchema()"
   ]
  },
  {
   "cell_type": "code",
   "execution_count": 9,
   "metadata": {},
   "outputs": [
    {
     "data": {
      "text/plain": [
       "[Row(soldierId=0.0, shipId=24.0, attackId=0.0, assists=0.0, greekFireItems=5.0, healthLost=247.3, knockedOutSoldiers=2.0, throatSlits=0.0, healingPotionsUsed=4.0, killRank=17.0, killPoints=1050.0, enemiesKilled=2.0, killingStreaks=1.0, farthermostKill=65.32, numShips=28.0, numSaves=1.0, horseRideDistance=591.3, horseRideKills=0.0, swimmingDistance=0.0, friendlyKills=0.0, castleTowerDestroys=0.0, onFootDistance=782.4, weaponsUsed=4.0, respectEarned=1458.0, bestSoldierPerc=0.8571, features=DenseVector([24.0, 0.0, 0.0, 5.0, 247.3, 2.0, 0.0, 4.0, 17.0, 1050.0, 2.0, 1.0, 65.32, 28.0, 1.0, 591.3, 0.0, 0.0, 0.0, 0.0, 782.4, 4.0, 1458.0])),\n",
       " Row(soldierId=1.0, shipId=440875.0, attackId=1.0, assists=1.0, greekFireItems=0.0, healthLost=37.65, knockedOutSoldiers=1.0, throatSlits=1.0, healingPotionsUsed=0.0, killRank=45.0, killPoints=1072.0, enemiesKilled=1.0, killingStreaks=1.0, farthermostKill=-13.55, numShips=23.0, numSaves=0.0, horseRideDistance=0.0, horseRideKills=0.0, swimmingDistance=0.0, friendlyKills=0.0, castleTowerDestroys=0.0, onFootDistance=119.6, weaponsUsed=3.0, respectEarned=1511.0, bestSoldierPerc=0.04, features=DenseVector([440875.0, 1.0, 1.0, 0.0, 37.65, 1.0, 1.0, 0.0, 45.0, 1072.0, 1.0, 1.0, -13.55, 23.0, 0.0, 0.0, 0.0, 0.0, 0.0, 0.0, 119.6, 3.0, 1511.0]))]"
      ]
     },
     "execution_count": 9,
     "metadata": {},
     "output_type": "execute_result"
    }
   ],
   "source": [
    "output_data.head(2)"
   ]
  },
  {
   "cell_type": "code",
   "execution_count": 104,
   "metadata": {},
   "outputs": [],
   "source": [
    "final_data = output_data.select('features', 'bestSoldierPerc')"
   ]
  },
  {
   "cell_type": "code",
   "execution_count": 107,
   "metadata": {},
   "outputs": [],
   "source": [
    "final_test_data = output_test_data.select('features')"
   ]
  },
  {
   "cell_type": "code",
   "execution_count": 11,
   "metadata": {},
   "outputs": [
    {
     "name": "stdout",
     "output_type": "stream",
     "text": [
      "root\n",
      " |-- features: vector (nullable = true)\n",
      " |-- bestSoldierPerc: double (nullable = true)\n",
      "\n"
     ]
    }
   ],
   "source": [
    "final_data.printSchema()"
   ]
  },
  {
   "cell_type": "code",
   "execution_count": 48,
   "metadata": {},
   "outputs": [],
   "source": [
    "train,test,cv = final_data.randomSplit([0.4,0.3,0.3])"
   ]
  },
  {
   "cell_type": "code",
   "execution_count": 49,
   "metadata": {},
   "outputs": [
    {
     "data": {
      "text/plain": [
       "1743453"
      ]
     },
     "execution_count": 49,
     "metadata": {},
     "output_type": "execute_result"
    }
   ],
   "source": [
    "train.count()"
   ]
  },
  {
   "cell_type": "code",
   "execution_count": 108,
   "metadata": {},
   "outputs": [],
   "source": [
    "#model = RandomForestRegressor(labelCol='bestSoldierPerc')\n",
    "model = RandomForestRegressor(labelCol='bestSoldierPerc',numTrees=4, featureSubsetStrategy=\"all\",impurity='variance', maxDepth=9, maxBins=64)"
   ]
  },
  {
   "cell_type": "code",
   "execution_count": 109,
   "metadata": {},
   "outputs": [],
   "source": [
    "model=model.fit(final_data)"
   ]
  },
  {
   "cell_type": "code",
   "execution_count": 16,
   "metadata": {},
   "outputs": [],
   "source": [
    "from pyspark.mllib.evaluation import RegressionMetrics\n",
    "from pyspark.ml.evaluation import RegressionEvaluator"
   ]
  },
  {
   "cell_type": "code",
   "execution_count": 110,
   "metadata": {},
   "outputs": [],
   "source": [
    "predictions = model.transform(final_test_data)"
   ]
  },
  {
   "cell_type": "code",
   "execution_count": 111,
   "metadata": {},
   "outputs": [
    {
     "name": "stdout",
     "output_type": "stream",
     "text": [
      "root\n",
      " |-- features: vector (nullable = true)\n",
      " |-- prediction: double (nullable = false)\n",
      "\n"
     ]
    }
   ],
   "source": [
    "predictions.printSchema()"
   ]
  },
  {
   "cell_type": "code",
   "execution_count": 100,
   "metadata": {},
   "outputs": [],
   "source": [
    "evaluator = RegressionEvaluator(labelCol=\"bestSoldierPerc\", predictionCol=\"prediction\", metricName=\"mae\")\n",
    "mae = evaluator.evaluate(predictions)"
   ]
  },
  {
   "cell_type": "code",
   "execution_count": 101,
   "metadata": {},
   "outputs": [
    {
     "name": "stdout",
     "output_type": "stream",
     "text": [
      "0.07486700579683114\n"
     ]
    }
   ],
   "source": [
    "print(mae)"
   ]
  },
  {
   "cell_type": "code",
   "execution_count": 112,
   "metadata": {},
   "outputs": [],
   "source": [
    "res = predictions.select('prediction')"
   ]
  },
  {
   "cell_type": "code",
   "execution_count": 113,
   "metadata": {},
   "outputs": [],
   "source": [
    "res.write.csv('out.csv')"
   ]
  },
  {
   "cell_type": "code",
   "execution_count": 114,
   "metadata": {},
   "outputs": [],
   "source": [
    "sid = input_test_data.select('soldierId')"
   ]
  },
  {
   "cell_type": "code",
   "execution_count": 115,
   "metadata": {},
   "outputs": [],
   "source": [
    "sid.write.csv('sid.csv')"
   ]
  },
  {
   "cell_type": "code",
   "execution_count": 83,
   "metadata": {},
   "outputs": [
    {
     "data": {
      "text/plain": [
       "1307262"
      ]
     },
     "execution_count": 83,
     "metadata": {},
     "output_type": "execute_result"
    }
   ],
   "source": [
    "test.count()"
   ]
  },
  {
   "cell_type": "code",
   "execution_count": 117,
   "metadata": {},
   "outputs": [],
   "source": [
    "import pandas as pd"
   ]
  },
  {
   "cell_type": "code",
   "execution_count": 119,
   "metadata": {},
   "outputs": [],
   "source": [
    "df_test = pd.read_csv('./data/test.csv')"
   ]
  },
  {
   "cell_type": "code",
   "execution_count": 120,
   "metadata": {},
   "outputs": [
    {
     "data": {
      "text/html": [
       "<div>\n",
       "<style scoped>\n",
       "    .dataframe tbody tr th:only-of-type {\n",
       "        vertical-align: middle;\n",
       "    }\n",
       "\n",
       "    .dataframe tbody tr th {\n",
       "        vertical-align: top;\n",
       "    }\n",
       "\n",
       "    .dataframe thead th {\n",
       "        text-align: right;\n",
       "    }\n",
       "</style>\n",
       "<table border=\"1\" class=\"dataframe\">\n",
       "  <thead>\n",
       "    <tr style=\"text-align: right;\">\n",
       "      <th></th>\n",
       "      <th>Unnamed: 0</th>\n",
       "      <th>index</th>\n",
       "      <th>soldierId</th>\n",
       "      <th>shipId</th>\n",
       "      <th>attackId</th>\n",
       "      <th>assists</th>\n",
       "      <th>greekFireItems</th>\n",
       "      <th>healthLost</th>\n",
       "      <th>knockedOutSoldiers</th>\n",
       "      <th>throatSlits</th>\n",
       "      <th>...</th>\n",
       "      <th>numShips</th>\n",
       "      <th>numSaves</th>\n",
       "      <th>horseRideDistance</th>\n",
       "      <th>horseRideKills</th>\n",
       "      <th>swimmingDistance</th>\n",
       "      <th>friendlyKills</th>\n",
       "      <th>castleTowerDestroys</th>\n",
       "      <th>onFootDistance</th>\n",
       "      <th>weaponsUsed</th>\n",
       "      <th>respectEarned</th>\n",
       "    </tr>\n",
       "  </thead>\n",
       "  <tbody>\n",
       "    <tr>\n",
       "      <th>0</th>\n",
       "      <td>0</td>\n",
       "      <td>0</td>\n",
       "      <td>47734.0</td>\n",
       "      <td>1659463.0</td>\n",
       "      <td>47734.0</td>\n",
       "      <td>0.0</td>\n",
       "      <td>0.0</td>\n",
       "      <td>100.0</td>\n",
       "      <td>1.0</td>\n",
       "      <td>0.0</td>\n",
       "      <td>...</td>\n",
       "      <td>45.0</td>\n",
       "      <td>0.0</td>\n",
       "      <td>0.0</td>\n",
       "      <td>0.0</td>\n",
       "      <td>0.0</td>\n",
       "      <td>1.0</td>\n",
       "      <td>0.0</td>\n",
       "      <td>421.50</td>\n",
       "      <td>7.0</td>\n",
       "      <td>1500.0</td>\n",
       "    </tr>\n",
       "    <tr>\n",
       "      <th>1</th>\n",
       "      <td>1</td>\n",
       "      <td>1</td>\n",
       "      <td>47735.0</td>\n",
       "      <td>1659508.0</td>\n",
       "      <td>47735.0</td>\n",
       "      <td>0.0</td>\n",
       "      <td>1.0</td>\n",
       "      <td>400.0</td>\n",
       "      <td>2.0</td>\n",
       "      <td>0.0</td>\n",
       "      <td>...</td>\n",
       "      <td>47.0</td>\n",
       "      <td>1.0</td>\n",
       "      <td>0.0</td>\n",
       "      <td>0.0</td>\n",
       "      <td>0.0</td>\n",
       "      <td>0.0</td>\n",
       "      <td>0.0</td>\n",
       "      <td>655.80</td>\n",
       "      <td>4.0</td>\n",
       "      <td>1526.0</td>\n",
       "    </tr>\n",
       "    <tr>\n",
       "      <th>2</th>\n",
       "      <td>2</td>\n",
       "      <td>2</td>\n",
       "      <td>47736.0</td>\n",
       "      <td>1659555.0</td>\n",
       "      <td>47736.0</td>\n",
       "      <td>0.0</td>\n",
       "      <td>0.0</td>\n",
       "      <td>0.0</td>\n",
       "      <td>0.0</td>\n",
       "      <td>0.0</td>\n",
       "      <td>...</td>\n",
       "      <td>28.0</td>\n",
       "      <td>0.0</td>\n",
       "      <td>0.0</td>\n",
       "      <td>0.0</td>\n",
       "      <td>0.0</td>\n",
       "      <td>0.0</td>\n",
       "      <td>0.0</td>\n",
       "      <td>74.58</td>\n",
       "      <td>1.0</td>\n",
       "      <td>1475.0</td>\n",
       "    </tr>\n",
       "    <tr>\n",
       "      <th>3</th>\n",
       "      <td>3</td>\n",
       "      <td>3</td>\n",
       "      <td>47737.0</td>\n",
       "      <td>1659621.0</td>\n",
       "      <td>47737.0</td>\n",
       "      <td>0.0</td>\n",
       "      <td>0.0</td>\n",
       "      <td>68.6</td>\n",
       "      <td>0.0</td>\n",
       "      <td>0.0</td>\n",
       "      <td>...</td>\n",
       "      <td>92.0</td>\n",
       "      <td>0.0</td>\n",
       "      <td>0.0</td>\n",
       "      <td>0.0</td>\n",
       "      <td>0.0</td>\n",
       "      <td>0.0</td>\n",
       "      <td>0.0</td>\n",
       "      <td>167.20</td>\n",
       "      <td>2.0</td>\n",
       "      <td>1464.0</td>\n",
       "    </tr>\n",
       "    <tr>\n",
       "      <th>4</th>\n",
       "      <td>4</td>\n",
       "      <td>4</td>\n",
       "      <td>47738.0</td>\n",
       "      <td>1659675.0</td>\n",
       "      <td>47738.0</td>\n",
       "      <td>0.0</td>\n",
       "      <td>1.0</td>\n",
       "      <td>370.5</td>\n",
       "      <td>3.0</td>\n",
       "      <td>0.0</td>\n",
       "      <td>...</td>\n",
       "      <td>26.0</td>\n",
       "      <td>0.0</td>\n",
       "      <td>0.0</td>\n",
       "      <td>0.0</td>\n",
       "      <td>0.0</td>\n",
       "      <td>0.0</td>\n",
       "      <td>0.0</td>\n",
       "      <td>146.70</td>\n",
       "      <td>3.0</td>\n",
       "      <td>1505.0</td>\n",
       "    </tr>\n",
       "  </tbody>\n",
       "</table>\n",
       "<p>5 rows × 26 columns</p>\n",
       "</div>"
      ],
      "text/plain": [
       "   Unnamed: 0  index  soldierId     shipId  attackId  assists  greekFireItems  \\\n",
       "0           0      0    47734.0  1659463.0   47734.0      0.0             0.0   \n",
       "1           1      1    47735.0  1659508.0   47735.0      0.0             1.0   \n",
       "2           2      2    47736.0  1659555.0   47736.0      0.0             0.0   \n",
       "3           3      3    47737.0  1659621.0   47737.0      0.0             0.0   \n",
       "4           4      4    47738.0  1659675.0   47738.0      0.0             1.0   \n",
       "\n",
       "   healthLost  knockedOutSoldiers  throatSlits  ...  numShips  numSaves  \\\n",
       "0       100.0                 1.0          0.0  ...      45.0       0.0   \n",
       "1       400.0                 2.0          0.0  ...      47.0       1.0   \n",
       "2         0.0                 0.0          0.0  ...      28.0       0.0   \n",
       "3        68.6                 0.0          0.0  ...      92.0       0.0   \n",
       "4       370.5                 3.0          0.0  ...      26.0       0.0   \n",
       "\n",
       "   horseRideDistance  horseRideKills  swimmingDistance  friendlyKills  \\\n",
       "0                0.0             0.0               0.0            1.0   \n",
       "1                0.0             0.0               0.0            0.0   \n",
       "2                0.0             0.0               0.0            0.0   \n",
       "3                0.0             0.0               0.0            0.0   \n",
       "4                0.0             0.0               0.0            0.0   \n",
       "\n",
       "   castleTowerDestroys  onFootDistance  weaponsUsed  respectEarned  \n",
       "0                  0.0          421.50          7.0         1500.0  \n",
       "1                  0.0          655.80          4.0         1526.0  \n",
       "2                  0.0           74.58          1.0         1475.0  \n",
       "3                  0.0          167.20          2.0         1464.0  \n",
       "4                  0.0          146.70          3.0         1505.0  \n",
       "\n",
       "[5 rows x 26 columns]"
      ]
     },
     "execution_count": 120,
     "metadata": {},
     "output_type": "execute_result"
    }
   ],
   "source": [
    "df_test.head()"
   ]
  },
  {
   "cell_type": "code",
   "execution_count": 128,
   "metadata": {},
   "outputs": [],
   "source": [
    "df_test['soldierId'] = df_test['soldierId'].astype(int)"
   ]
  },
  {
   "cell_type": "code",
   "execution_count": 129,
   "metadata": {},
   "outputs": [
    {
     "data": {
      "text/plain": [
       "Unnamed: 0               int64\n",
       "index                    int64\n",
       "soldierId                int64\n",
       "shipId                 float64\n",
       "attackId               float64\n",
       "assists                float64\n",
       "greekFireItems         float64\n",
       "healthLost             float64\n",
       "knockedOutSoldiers     float64\n",
       "throatSlits            float64\n",
       "healingPotionsUsed     float64\n",
       "killRank               float64\n",
       "killPoints             float64\n",
       "enemiesKilled          float64\n",
       "killingStreaks         float64\n",
       "farthermostKill        float64\n",
       "numShips               float64\n",
       "numSaves               float64\n",
       "horseRideDistance      float64\n",
       "horseRideKills         float64\n",
       "swimmingDistance       float64\n",
       "friendlyKills          float64\n",
       "castleTowerDestroys    float64\n",
       "onFootDistance         float64\n",
       "weaponsUsed            float64\n",
       "respectEarned          float64\n",
       "dtype: object"
      ]
     },
     "execution_count": 129,
     "metadata": {},
     "output_type": "execute_result"
    }
   ],
   "source": [
    "df_test.dtypes"
   ]
  },
  {
   "cell_type": "code",
   "execution_count": 131,
   "metadata": {},
   "outputs": [
    {
     "name": "stderr",
     "output_type": "stream",
     "text": [
      "/home/pinak17/miniconda3/envs/snakes/lib/python3.6/site-packages/ipykernel_launcher.py:1: FutureWarning: The signature of `Series.to_csv` was aligned to that of `DataFrame.to_csv`, and argument 'header' will change its default value from False to True: please pass an explicit value to suppress this warning.\n",
      "  \"\"\"Entry point for launching an IPython kernel.\n"
     ]
    }
   ],
   "source": [
    "df_test['soldierId'].to_csv('soid.csv', index=False)"
   ]
  }
 ],
 "metadata": {
  "kernelspec": {
   "display_name": "Python 3",
   "language": "python",
   "name": "python3"
  },
  "language_info": {
   "codemirror_mode": {
    "name": "ipython",
    "version": 3
   },
   "file_extension": ".py",
   "mimetype": "text/x-python",
   "name": "python",
   "nbconvert_exporter": "python",
   "pygments_lexer": "ipython3",
   "version": "3.6.8"
  }
 },
 "nbformat": 4,
 "nbformat_minor": 2
}
